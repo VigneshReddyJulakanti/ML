{
  "nbformat": 4,
  "nbformat_minor": 0,
  "metadata": {
    "colab": {
      "provenance": [],
      "collapsed_sections": [],
      "toc_visible": true,
      "authorship_tag": "ABX9TyOxa5eEqZ4Q88fxXRKHw0ig",
      "include_colab_link": true
    },
    "kernelspec": {
      "name": "python3",
      "display_name": "Python 3"
    },
    "language_info": {
      "name": "python"
    }
  },
  "cells": [
    {
      "cell_type": "markdown",
      "metadata": {
        "id": "view-in-github",
        "colab_type": "text"
      },
      "source": [
        "<a href=\"https://colab.research.google.com/github/VigneshReddyJulakanti/ML/blob/master/IML_final.ipynb\" target=\"_parent\"><img src=\"https://colab.research.google.com/assets/colab-badge.svg\" alt=\"Open In Colab\"/></a>"
      ]
    },
    {
      "cell_type": "code",
      "execution_count": 7,
      "metadata": {
        "id": "LTVbEE9I6xKi"
      },
      "outputs": [],
      "source": [
        "import numpy as np\n",
        "import matplotlib.pyplot as plt"
      ]
    },
    {
      "cell_type": "markdown",
      "source": [
        "**Box and Whisker Plot**\n",
        "It used to get the idea on how the data is distributed .\n",
        "We can see the outliers\n",
        "\n",
        "box bottom: Q1  (medain of left meadian array ) ( i.e 25% data is less than Q1 )(0.25 Quartile)\n",
        "\n",
        "box middle orange line :Q2  (median of the array) (i.e 50% data is less than Q2)(0.5 Quartile)\n",
        "\n",
        "box top :Q3 (median of right median array ) (i.e 75% data is less than Q3)(0.75 Quartile)\n",
        "\n",
        "\n",
        "**Quartile**\n",
        "Here we call Q as Quartile\n",
        "i.e Q specifies how much amount of data is below Q quartile\n",
        "**b=np.quantile(array,Q)**  This is used to identify Quartile range\n",
        "\n",
        "**Inter Quartile Range**\n",
        "i.e the 0.75 Q -0.25 Q\n",
        "\n"
      ],
      "metadata": {
        "id": "nStlbwqI7_c5"
      }
    },
    {
      "cell_type": "code",
      "source": [
        "arr=[2,7,10,12,16,20,100]\n",
        "fig=plt.figure(figsize=(10,7))   #For size of the figure\n",
        "plt.boxplot(arr)  #It is used to draw boxplot , for the array , used to detect outlier \n",
        "plt.show()"
      ],
      "metadata": {
        "colab": {
          "base_uri": "https://localhost:8080/",
          "height": 428
        },
        "id": "3PMrBbAy7BUh",
        "outputId": "c0271ffb-73e7-4366-82a6-a0ef85741202"
      },
      "execution_count": 11,
      "outputs": [
        {
          "output_type": "display_data",
          "data": {
            "text/plain": [
              "<Figure size 720x504 with 1 Axes>"
            ],
            "image/png": "[encoded data removed]"
          },
          "metadata": {
            "needs_background": "light"
          }
        }
      ]
    },
    {
      "cell_type": "code",
      "source": [
        "#to draw horixontally\n",
        "plt.boxplot(arr,vert=0)\n",
        "plt.show()"
      ],
      "metadata": {
        "colab": {
          "base_uri": "https://localhost:8080/",
          "height": 265
        },
        "id": "sd1DR8oP7R2U",
        "outputId": "7588126e-edf9-480b-a2f6-ca6f3b955076"
      },
      "execution_count": 12,
      "outputs": [
        {
          "output_type": "display_data",
          "data": {
            "text/plain": [
              "<Figure size 432x288 with 1 Axes>"
            ],
            "image/png": "[encoded data removed]"
          },
          "metadata": {
            "needs_background": "light"
          }
        }
      ]
    },
    {
      "cell_type": "code",
      "source": [
        "#to find quantile\n",
        "np.quantile(arr,0.25)"
      ],
      "metadata": {
        "colab": {
          "base_uri": "https://localhost:8080/"
        },
        "id": "TjBAPOrQ-L50",
        "outputId": "cc34189d-41fd-40a3-f0d1-f29c58a71490"
      },
      "execution_count": 14,
      "outputs": [
        {
          "output_type": "execute_result",
          "data": {
            "text/plain": [
              "8.5"
            ]
          },
          "metadata": {},
          "execution_count": 14
        }
      ]
    },
    {
      "cell_type": "code",
      "source": [],
      "metadata": {
        "id": "eVQB1k_x-VE6"
      },
      "execution_count": null,
      "outputs": []
    }
  ]
}