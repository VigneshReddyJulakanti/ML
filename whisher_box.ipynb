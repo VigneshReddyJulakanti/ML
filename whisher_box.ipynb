{
  "nbformat": 4,
  "nbformat_minor": 0,
  "metadata": {
    "colab": {
      "provenance": [],
      "authorship_tag": "ABX9TyOa/2H7jFaYl/b6Rr1KiOIf",
      "include_colab_link": true
    },
    "kernelspec": {
      "name": "python3",
      "display_name": "Python 3"
    },
    "language_info": {
      "name": "python"
    }
  },
  "cells": [
    {
      "cell_type": "markdown",
      "metadata": {
        "id": "view-in-github",
        "colab_type": "text"
      },
      "source": [
        "<a href=\"https://colab.research.google.com/github/VigneshReddyJulakanti/ML/blob/master/whisher_box.ipynb\" target=\"_parent\"><img src=\"https://colab.research.google.com/assets/colab-badge.svg\" alt=\"Open In Colab\"/></a>"
      ]
    },
    {
      "cell_type": "code",
      "execution_count": 24,
      "metadata": {
        "id": "VWcStNMvoklo"
      },
      "outputs": [],
      "source": [
        "import numpy as numpy"
      ]
    },
    {
      "cell_type": "code",
      "source": [
        "import matplotlib.pyplot as plt"
      ],
      "metadata": {
        "id": "gHlUPTG1oy33"
      },
      "execution_count": 25,
      "outputs": []
    },
    {
      "cell_type": "code",
      "source": [
        "y=[2,7,10,12,16,20,100]"
      ],
      "metadata": {
        "id": "smxyEJi5o12T"
      },
      "execution_count": 26,
      "outputs": []
    },
    {
      "cell_type": "code",
      "source": [
        "fig=plt.figure(figsize=(10,7))\n",
        "bp=plt.boxplot(y)"
      ],
      "metadata": {
        "colab": {
          "base_uri": "https://localhost:8080/",
          "height": 428
        },
        "id": "4Wl0TDzeo4AU",
        "outputId": "391870f3-3e13-4742-f61a-ae6572d60812"
      },
      "execution_count": 30,
      "outputs": [
        {
          "output_type": "display_data",
          "data": {
            "text/plain": [
              "<Figure size 720x504 with 1 Axes>"
            ],
            "image/png": "[encoded data removed]"
          },
          "metadata": {
            "needs_background": "light"
          }
        }
      ]
    },
    {
      "cell_type": "code",
      "source": [
        "plt.show()"
      ],
      "metadata": {
        "id": "YpTBaJX0o-Ib"
      },
      "execution_count": 6,
      "outputs": []
    },
    {
      "cell_type": "code",
      "source": [
        "arr=[ [-i for i in range(j*10,j*10+10)] for j in range(20)]\n",
        "arr+=arr[::-1]\n"
      ],
      "metadata": {
        "id": "Z0AGeWRjo_8q"
      },
      "execution_count": 52,
      "outputs": []
    },
    {
      "cell_type": "code",
      "source": [
        "arr"
      ],
      "metadata": {
        "colab": {
          "base_uri": "https://localhost:8080/"
        },
        "id": "rrGPkrVVrAhN",
        "outputId": "59385a76-2e77-45a6-9dee-5c7a3745a317"
      },
      "execution_count": 53,
      "outputs": [
        {
          "output_type": "execute_result",
          "data": {
            "text/plain": [
              "[[0, -1, -2, -3, -4, -5, -6, -7, -8, -9],\n",
              " [-10, -11, -12, -13, -14, -15, -16, -17, -18, -19],\n",
              " [-20, -21, -22, -23, -24, -25, -26, -27, -28, -29],\n",
              " [-30, -31, -32, -33, -34, -35, -36, -37, -38, -39],\n",
              " [-40, -41, -42, -43, -44, -45, -46, -47, -48, -49],\n",
              " [-50, -51, -52, -53, -54, -55, -56, -57, -58, -59],\n",
              " [-60, -61, -62, -63, -64, -65, -66, -67, -68, -69],\n",
              " [-70, -71, -72, -73, -74, -75, -76, -77, -78, -79],\n",
              " [-80, -81, -82, -83, -84, -85, -86, -87, -88, -89],\n",
              " [-90, -91, -92, -93, -94, -95, -96, -97, -98, -99],\n",
              " [-100, -101, -102, -103, -104, -105, -106, -107, -108, -109],\n",
              " [-110, -111, -112, -113, -114, -115, -116, -117, -118, -119],\n",
              " [-120, -121, -122, -123, -124, -125, -126, -127, -128, -129],\n",
              " [-130, -131, -132, -133, -134, -135, -136, -137, -138, -139],\n",
              " [-140, -141, -142, -143, -144, -145, -146, -147, -148, -149],\n",
              " [-150, -151, -152, -153, -154, -155, -156, -157, -158, -159],\n",
              " [-160, -161, -162, -163, -164, -165, -166, -167, -168, -169],\n",
              " [-170, -171, -172, -173, -174, -175, -176, -177, -178, -179],\n",
              " [-180, -181, -182, -183, -184, -185, -186, -187, -188, -189],\n",
              " [-190, -191, -192, -193, -194, -195, -196, -197, -198, -199],\n",
              " [-190, -191, -192, -193, -194, -195, -196, -197, -198, -199],\n",
              " [-180, -181, -182, -183, -184, -185, -186, -187, -188, -189],\n",
              " [-170, -171, -172, -173, -174, -175, -176, -177, -178, -179],\n",
              " [-160, -161, -162, -163, -164, -165, -166, -167, -168, -169],\n",
              " [-150, -151, -152, -153, -154, -155, -156, -157, -158, -159],\n",
              " [-140, -141, -142, -143, -144, -145, -146, -147, -148, -149],\n",
              " [-130, -131, -132, -133, -134, -135, -136, -137, -138, -139],\n",
              " [-120, -121, -122, -123, -124, -125, -126, -127, -128, -129],\n",
              " [-110, -111, -112, -113, -114, -115, -116, -117, -118, -119],\n",
              " [-100, -101, -102, -103, -104, -105, -106, -107, -108, -109],\n",
              " [-90, -91, -92, -93, -94, -95, -96, -97, -98, -99],\n",
              " [-80, -81, -82, -83, -84, -85, -86, -87, -88, -89],\n",
              " [-70, -71, -72, -73, -74, -75, -76, -77, -78, -79],\n",
              " [-60, -61, -62, -63, -64, -65, -66, -67, -68, -69],\n",
              " [-50, -51, -52, -53, -54, -55, -56, -57, -58, -59],\n",
              " [-40, -41, -42, -43, -44, -45, -46, -47, -48, -49],\n",
              " [-30, -31, -32, -33, -34, -35, -36, -37, -38, -39],\n",
              " [-20, -21, -22, -23, -24, -25, -26, -27, -28, -29],\n",
              " [-10, -11, -12, -13, -14, -15, -16, -17, -18, -19],\n",
              " [0, -1, -2, -3, -4, -5, -6, -7, -8, -9]]"
            ]
          },
          "metadata": {},
          "execution_count": 53
        }
      ]
    },
    {
      "cell_type": "code",
      "source": [
        "bp=plt.boxplot(arr,patch_artist=True)"
      ],
      "metadata": {
        "colab": {
          "base_uri": "https://localhost:8080/",
          "height": 265
        },
        "id": "jtRC1jSprFqD",
        "outputId": "45a43701-0e55-4aa5-d94d-dc78845897e2"
      },
      "execution_count": 54,
      "outputs": [
        {
          "output_type": "display_data",
          "data": {
            "text/plain": [
              "<Figure size 432x288 with 1 Axes>"
            ],
            "image/png": "[encoded data removed]"
          },
          "metadata": {
            "needs_background": "light"
          }
        }
      ]
    },
    {
      "cell_type": "code",
      "source": [],
      "metadata": {
        "id": "6Ku5iUWdrVgb"
      },
      "execution_count": null,
      "outputs": []
    }
  ]
}